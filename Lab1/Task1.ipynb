{
 "cells": [
  {
   "cell_type": "code",
   "execution_count": 2,
   "metadata": {
    "vscode": {
     "languageId": "shellscript"
    }
   },
   "outputs": [
    {
     "name": "stdout",
     "output_type": "stream",
     "text": [
      "Collecting tokenizer\n",
      "  Downloading tokenizer-3.4.5-py3-none-any.whl.metadata (42 kB)\n",
      "Downloading tokenizer-3.4.5-py3-none-any.whl (112 kB)\n",
      "Installing collected packages: tokenizer\n",
      "Successfully installed tokenizer-3.4.5\n",
      "Note: you may need to restart the kernel to use updated packages.\n"
     ]
    }
   ],
   "source": [
    "pip install tokenizer"
   ]
  },
  {
   "cell_type": "code",
   "execution_count": 3,
   "metadata": {},
   "outputs": [
    {
     "name": "stdout",
     "output_type": "stream",
     "text": [
      "You/are/encourage/to/study/BDY/hard/We/believe/you/can/study/BDA/well\n"
     ]
    }
   ],
   "source": [
    "text=[\"You are encourage to study BDY hard\",\"We believe you can study BDA well\"]\n",
    "\n",
    "from tokenizer import split_into_sentences\n",
    "\n",
    "s= split_into_sentences(text)\n",
    "\n",
    "for sentence in s:\n",
    "    tokens = sentence.split()\n",
    "    print(\"/\".join(tokens))"
   ]
  },
  {
   "cell_type": "code",
   "execution_count": 1,
   "metadata": {},
   "outputs": [
    {
     "name": "stdout",
     "output_type": "stream",
     "text": [
      "[[0.         0.51082562 0.51082562 0.69314718 0.69314718 0.69314718\n",
      "  0.69314718 0.69314718 0.         0.         0.         0.\n",
      "  0.        ]\n",
      " [0.         0.51082562 0.51082562 0.         0.         0.\n",
      "  0.         0.         0.69314718 0.69314718 0.69314718 0.69314718\n",
      "  0.69314718]]\n"
     ]
    }
   ],
   "source": [
    "from keras.preprocessing.text import Tokenizer\n",
    "\n",
    "tokenizer = Tokenizer()\n",
    "\n",
    "text = [\"You are encourage to study BDY hard\",\"We believe you can study BDA well\"]\n",
    "\n",
    "tokenizer.fit_on_texts(text)\n",
    "\n",
    "tokenizer.word_counts\n",
    "\n",
    "tokenizer.word_docs\n",
    "\n",
    "tokenizer.word_index\n",
    "\n",
    "tokenizer.document_count\n",
    "\n",
    "encoded_docs = tokenizer.texts_to_matrix(text, mode='tfidf')\n",
    "\n",
    "print(encoded_docs)"
   ]
  }
 ],
 "metadata": {
  "kernelspec": {
   "display_name": "BigData",
   "language": "python",
   "name": "python3"
  },
  "language_info": {
   "codemirror_mode": {
    "name": "ipython",
    "version": 3
   },
   "file_extension": ".py",
   "mimetype": "text/x-python",
   "name": "python",
   "nbconvert_exporter": "python",
   "pygments_lexer": "ipython3",
   "version": "3.10.8"
  }
 },
 "nbformat": 4,
 "nbformat_minor": 2
}
